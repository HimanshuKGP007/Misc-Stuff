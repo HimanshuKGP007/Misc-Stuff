{
 "cells": [
  {
   "cell_type": "code",
   "execution_count": 1,
   "id": "493e7a22",
   "metadata": {},
   "outputs": [
    {
     "name": "stdout",
     "output_type": "stream",
     "text": [
      "Collecting pyspark\n",
      "  Downloading pyspark-3.3.0.tar.gz (281.3 MB)\n",
      "Collecting py4j==0.10.9.5\n",
      "  Downloading py4j-0.10.9.5-py2.py3-none-any.whl (199 kB)\n",
      "Building wheels for collected packages: pyspark\n",
      "  Building wheel for pyspark (setup.py): started\n",
      "  Building wheel for pyspark (setup.py): finished with status 'done'\n",
      "  Created wheel for pyspark: filename=pyspark-3.3.0-py2.py3-none-any.whl size=281764027 sha256=0eacfb49525c8e8f897f0dc619d14aa5da14d5659237607311c5c186b18c71a2\n",
      "  Stored in directory: c:\\users\\dell\\appdata\\local\\pip\\cache\\wheels\\05\\75\\73\\81f84d174299abca38dd6a06a5b98b08ae25fce50ab8986fa1\n",
      "Successfully built pyspark\n",
      "Installing collected packages: py4j, pyspark\n",
      "Successfully installed py4j-0.10.9.5 pyspark-3.3.0\n"
     ]
    }
   ],
   "source": [
    "!pip install pyspark"
   ]
  },
  {
   "cell_type": "code",
   "execution_count": 3,
   "id": "8d29d4ac",
   "metadata": {},
   "outputs": [],
   "source": [
    "# Advanced Pyspark Tutorial - UDFs\n",
    "# UDFs are user-defined functions that can be used in Spark SQL and DataFrames.\n",
    "# https://www.kaggle.com/code/tientd95/advanced-pyspark-for-exploratory-data-analysis/data (data)\n",
    "\n",
    "# https://www.bmc.com/blogs/how-to-write-spark-udf-python/ (udf)"
   ]
  },
  {
   "cell_type": "markdown",
   "id": "a64c5cb9",
   "metadata": {},
   "source": [
    "## Code"
   ]
  },
  {
   "cell_type": "code",
   "execution_count": null,
   "id": "a6732863",
   "metadata": {},
   "outputs": [],
   "source": [
    "import pyspark\n",
    "from pyspark import SQLContext\n",
    "from pyspark.sql.types import StructType, StructField, IntegerType, FloatType, StringType\n",
    "from pyspark.sql.functions import udf\n",
    "from pyspark.sql import Row\n",
    "conf = pyspark.SparkConf() \n",
    "sc = pyspark.SparkContext.getOrCreate(conf=conf)\n",
    "spark = SQLContext(sc)\n",
    "schema = StructType([\n",
    "StructField(\"sales\", FloatType(),True),    \n",
    "StructField(\"employee\", StringType(),True),\n",
    "StructField(\"ID\", IntegerType(),True)\n",
    "])\n",
    "data = [[ 10.2, \"Fred\",123]]\n",
    "df = spark.createDataFrame(data,schema=schema)\n",
    "colsInt = udf(lambda z: toInt(z), IntegerType())\n",
    "spark.udf.register(\"colsInt\", colsInt)"
   ]
  },
  {
   "cell_type": "code",
   "execution_count": null,
   "id": "d5c75aa2",
   "metadata": {},
   "outputs": [],
   "source": [
    "def toInt(s):\n",
    "    if isinstance(s, str) == True:\n",
    "        st = [str(ord(i)) for i in s]\n",
    "        return(int(''.join(st)))\n",
    "    else:\n",
    "        return Null\n",
    "df2 = df.withColumn( 'semployee',colsInt('employee'))"
   ]
  }
 ],
 "metadata": {
  "kernelspec": {
   "display_name": "Python 3.9.7",
   "language": "python",
   "name": "python3"
  },
  "language_info": {
   "codemirror_mode": {
    "name": "ipython",
    "version": 3
   },
   "file_extension": ".py",
   "mimetype": "text/x-python",
   "name": "python",
   "nbconvert_exporter": "python",
   "pygments_lexer": "ipython3",
   "version": "3.9.7"
  },
  "papermill": {
   "default_parameters": {},
   "duration": 43.495838,
   "end_time": "2021-11-06T06:28:48.091830",
   "environment_variables": {},
   "exception": null,
   "input_path": "__notebook__.ipynb",
   "output_path": "__notebook__.ipynb",
   "parameters": {},
   "start_time": "2021-11-06T06:28:04.595992",
   "version": "2.3.3"
  },
  "vscode": {
   "interpreter": {
    "hash": "8b7a23f6152ff7f7de965debdbeaaa1b4374d3ecd4dc6be50fc412cd627a7ff3"
   }
  }
 },
 "nbformat": 4,
 "nbformat_minor": 5
}
